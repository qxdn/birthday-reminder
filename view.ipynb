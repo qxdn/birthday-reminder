{
 "cells": [
  {
   "cell_type": "code",
   "execution_count": 2,
   "metadata": {},
   "outputs": [],
   "source": [
    "import pandas as pd\n",
    "import seaborn as sns\n",
    "from tqdm import tqdm\n",
    "from typing import Optional\n",
    "import datetime"
   ]
  },
  {
   "cell_type": "code",
   "execution_count": 3,
   "metadata": {},
   "outputs": [
    {
     "name": "stdout",
     "output_type": "stream",
     "text": [
      "<class 'pandas.core.frame.DataFrame'>\n",
      "RangeIndex: 168122 entries, 0 to 168121\n",
      "Data columns (total 6 columns):\n",
      " #   Column       Non-Null Count   Dtype \n",
      "---  ------       --------------   ----- \n",
      " 0   id           168122 non-null  int64 \n",
      " 1   name         168121 non-null  object\n",
      " 2   name_cn      168121 non-null  object\n",
      " 3   other_names  110541 non-null  object\n",
      " 4   birthday     25188 non-null   object\n",
      " 5   gender       137594 non-null  object\n",
      "dtypes: int64(1), object(5)\n",
      "memory usage: 7.7+ MB\n"
     ]
    }
   ],
   "source": [
    "df = pd.read_csv('./result/character.csv')\n",
    "df.info()"
   ]
  },
  {
   "cell_type": "code",
   "execution_count": 4,
   "metadata": {},
   "outputs": [
    {
     "name": "stdout",
     "output_type": "stream",
     "text": [
      "<class 'pandas.core.frame.DataFrame'>\n",
      "Index: 23509 entries, 0 to 167951\n",
      "Data columns (total 6 columns):\n",
      " #   Column       Non-Null Count  Dtype \n",
      "---  ------       --------------  ----- \n",
      " 0   id           23509 non-null  int64 \n",
      " 1   name         23509 non-null  object\n",
      " 2   name_cn      23509 non-null  object\n",
      " 3   other_names  20538 non-null  object\n",
      " 4   birthday     23509 non-null  object\n",
      " 5   gender       23509 non-null  object\n",
      "dtypes: int64(1), object(5)\n",
      "memory usage: 1.3+ MB\n"
     ]
    }
   ],
   "source": [
    "df = df[df['birthday'].notnull() & df['gender'].notnull()]\n",
    "df.info()"
   ]
  },
  {
   "cell_type": "code",
   "execution_count": 5,
   "metadata": {},
   "outputs": [
    {
     "data": {
      "text/plain": [
       "gender\n",
       "女                            13551\n",
       "男                             9693\n",
       "♀                               28\n",
       "雄                               27\n",
       "不明                              18\n",
       "雌                               17\n",
       "♂                               16\n",
       "女性                              12\n",
       "未知                              10\n",
       "？                               10\n",
       "无                                7\n",
       "男（性自认）                           7\n",
       "公                                6\n",
       "男性                               5\n",
       "男（α）                             5\n",
       "男→女                              4\n",
       "男（Ω）                             3\n",
       "？？                               3\n",
       "女（？）                             3\n",
       "母                                3\n",
       "女[漫画] / 男(变身前)→女(变身后)[动画]        3\n",
       "女（女性人造人）                         2\n",
       "女？                               2\n",
       "男/女                              2\n",
       "代永                               2\n",
       "不详                               2\n",
       "无性别                              2\n",
       "女（雌？）                            2\n",
       "不定                               2\n",
       "男？                               2\n",
       "??                               2\n",
       "男 / 女                            2\n",
       "那                                1\n",
       "男（默认）                            1\n",
       "断罪                               1\n",
       "男（β）                             1\n",
       "無し                               1\n",
       "しらん（性自认）                         1\n",
       "ハイドレ（性自认）                        1\n",
       "Q（性自认）                           1\n",
       "女（穿男装）                           1\n",
       "トランス（性自认）                        1\n",
       "男性款                              1\n",
       "女omaga                           1\n",
       "女(雌性布偶猫)                         1\n",
       "男（雄性山羊）                          1\n",
       "女性款                              1\n",
       "女 （女性人造人）                        1\n",
       "男 / 女（由玩家定义）                     1\n",
       "男 （男性人造人）                        1\n",
       "女じゃない                            1\n",
       "人妖                               1\n",
       "ロボ                               1\n",
       "可男可女                             1\n",
       "代入自己                             1\n",
       "男beta                            1\n",
       "ニコ（性自认）                          1\n",
       "雪                                1\n",
       "保密                               1\n",
       "弦月                               1\n",
       "未知，通常认为：男                        1\n",
       "男？　女？                            1\n",
       "男(生理)                            1\n",
       "无所谓（by巳月）                        1\n",
       "未知,主观臆断是男                        1\n",
       "中性                               1\n",
       "-                                1\n",
       "?                                1\n",
       "女声                               1\n",
       "根据需求                             1\n",
       "雌雄同体[漫画] / 女[动画]                 1\n",
       "おとこ                              1\n",
       "なし                               1\n",
       "女？（人工生命）                         1\n",
       "无性→女                             1\n",
       "玩家决定                             1\n",
       "生物学上的女                           1\n",
       "♂？                               1\n",
       "非公開                              1\n",
       "不公开                              1\n",
       "nv                               1\n",
       "双性                               1\n",
       "由玩家决定                            1\n",
       "生理男                              1\n",
       "性別に捕らわれない                        1\n",
       "OVA版：男 TV版：女                     1\n",
       "女 / 男                            1\n",
       "雄性                               1\n",
       "Name: count, dtype: int64"
      ]
     },
     "execution_count": 5,
     "metadata": {},
     "output_type": "execute_result"
    }
   ],
   "source": [
    "pd.set_option('display.max_rows',None)\n",
    "df['gender'].value_counts()"
   ]
  },
  {
   "cell_type": "code",
   "execution_count": 7,
   "metadata": {},
   "outputs": [
    {
     "name": "stdout",
     "output_type": "stream",
     "text": [
      "info\n",
      "<class 'pandas.core.frame.DataFrame'>\n",
      "Index: 23509 entries, 0 to 167951\n",
      "Data columns (total 6 columns):\n",
      " #   Column       Non-Null Count  Dtype \n",
      "---  ------       --------------  ----- \n",
      " 0   id           23509 non-null  int64 \n",
      " 1   name         23509 non-null  object\n",
      " 2   name_cn      23509 non-null  object\n",
      " 3   other_names  20538 non-null  object\n",
      " 4   birthday     23509 non-null  object\n",
      " 5   gender       0 non-null      object\n",
      "dtypes: int64(1), object(5)\n",
      "memory usage: 1.3+ MB\n"
     ]
    }
   ],
   "source": [
    "def map_gender(gender:str):\n",
    "    result = None\n",
    "    match gender:\n",
    "        case \"男\":\n",
    "            result = \"M\"\n",
    "        case \"女\":\n",
    "            result = \"F\"\n",
    "        case \"雄\" | \"雌\" | \"♀\" | \"♂\":\n",
    "            # 有furry!\n",
    "            result = None\n",
    "        case _:\n",
    "            result = None\n",
    "    return result\n",
    "\n",
    "df['gender'] = df['gender'].astype('str').map(map_gender)\n",
    "df['gender'].value_counts()\n",
    "print(\"info\")\n",
    "df.info()"
   ]
  },
  {
   "cell_type": "code",
   "execution_count": 8,
   "metadata": {},
   "outputs": [
    {
     "name": "stdout",
     "output_type": "stream",
     "text": [
      "<class 'pandas.core.frame.DataFrame'>\n",
      "Index: 0 entries\n",
      "Data columns (total 6 columns):\n",
      " #   Column       Non-Null Count  Dtype \n",
      "---  ------       --------------  ----- \n",
      " 0   id           0 non-null      int64 \n",
      " 1   name         0 non-null      object\n",
      " 2   name_cn      0 non-null      object\n",
      " 3   other_names  0 non-null      object\n",
      " 4   birthday     0 non-null      object\n",
      " 5   gender       0 non-null      object\n",
      "dtypes: int64(1), object(5)\n",
      "memory usage: 0.0+ bytes\n"
     ]
    }
   ],
   "source": [
    "df = df[df['birthday'].notnull() & df['gender'].notnull() & (df['gender']=='F')]\n",
    "df.info()"
   ]
  },
  {
   "cell_type": "code",
   "execution_count": 9,
   "metadata": {},
   "outputs": [
    {
     "data": {
      "text/plain": [
       "Series([], Name: count, dtype: int64)"
      ]
     },
     "execution_count": 9,
     "metadata": {},
     "output_type": "execute_result"
    }
   ],
   "source": [
    "df['birthday'].value_counts()"
   ]
  },
  {
   "cell_type": "code",
   "execution_count": 10,
   "metadata": {},
   "outputs": [],
   "source": [
    "def birthday2year(birthday:str):\n",
    "    result = None\n",
    "    try:\n",
    "        # yyyy-mm-dd\n",
    "        result = datetime.datetime.strptime(birthday, '%Y-%m-%d').year\n",
    "    except ValueError as e:\n",
    "        try:\n",
    "            # yyyy年mm月dd日\n",
    "            result = datetime.datetime.strptime(birthday, '%Y年%m月%d日').year\n",
    "        except ValueError as e:\n",
    "            result = None\n",
    "    return result\n",
    "\n",
    "def birthday2month(birthday:str):\n",
    "    result = None\n",
    "    # 其他不处理了\n",
    "    try:\n",
    "        # yyyy-mm-dd\n",
    "        result = datetime.datetime.strptime(birthday, '%Y-%m-%d').month\n",
    "    except ValueError as e:\n",
    "        try:\n",
    "            # ????-mm-dd\n",
    "            result = datetime.datetime.strptime(birthday, '%????-%m-%d').month\n",
    "        except ValueError as e:\n",
    "            try:\n",
    "                # mm-dd\n",
    "                result = datetime.datetime.strptime(birthday, '%m-%d').month\n",
    "            except ValueError as e:\n",
    "                try:\n",
    "                    # yyyy年mm月dd日\n",
    "                    result = datetime.datetime.strptime(birthday, '%Y年%m月%d日').month\n",
    "                except ValueError as e:\n",
    "                    try:\n",
    "                        # ????年mm月dd日\n",
    "                        result = datetime.datetime.strptime(birthday, '????年%m月%d日').month\n",
    "                    except ValueError as e:\n",
    "                        try:\n",
    "                            # mm月dd日\n",
    "                            result = datetime.datetime.strptime(birthday, '%m月%d日').month\n",
    "                        except ValueError as e:\n",
    "                            try:\n",
    "                                # mm/dd\n",
    "                                result = datetime.datetime.strptime(birthday, '%m/%d').month\n",
    "                            except ValueError as e:\n",
    "                                result = None\n",
    "    return result\n",
    "\n",
    "def birthday2day(birthday:str):\n",
    "    result = None\n",
    "    try:\n",
    "        # yyyy-mm-dd\n",
    "        result = datetime.datetime.strptime(birthday, '%Y-%m-%d').day\n",
    "    except ValueError as e:\n",
    "        try:\n",
    "            # ????-mm-dd\n",
    "            result = datetime.datetime.strptime(birthday, '%????-%m-%d').day\n",
    "        except ValueError as e:\n",
    "            try:\n",
    "                # mm-dd\n",
    "                result = datetime.datetime.strptime(birthday, '%m-%d').day\n",
    "            except ValueError as e:\n",
    "                try:\n",
    "                    # yyyy年mm月dd日\n",
    "                    result = datetime.datetime.strptime(birthday, '%Y年%m月%d日').day\n",
    "                except ValueError as e:\n",
    "                    try:\n",
    "                        # ????年mm月dd日\n",
    "                        result = datetime.datetime.strptime(birthday, '????年%m月%d日').day\n",
    "                    except ValueError as e:\n",
    "                        try:\n",
    "                            # mm月dd日\n",
    "                            result = datetime.datetime.strptime(birthday, '%m月%d日').day\n",
    "                        except ValueError as e:\n",
    "                            try:\n",
    "                                # mm/dd\n",
    "                                result = datetime.datetime.strptime(birthday, '%m/%d').day\n",
    "                            except ValueError as e:\n",
    "                                result = None\n",
    "    return result"
   ]
  },
  {
   "cell_type": "code",
   "execution_count": 11,
   "metadata": {},
   "outputs": [
    {
     "name": "stdout",
     "output_type": "stream",
     "text": [
      "<class 'pandas.core.frame.DataFrame'>\n",
      "Index: 0 entries\n",
      "Data columns (total 9 columns):\n",
      " #   Column       Non-Null Count  Dtype \n",
      "---  ------       --------------  ----- \n",
      " 0   id           0 non-null      int64 \n",
      " 1   name         0 non-null      object\n",
      " 2   name_cn      0 non-null      object\n",
      " 3   other_names  0 non-null      object\n",
      " 4   birthday     0 non-null      object\n",
      " 5   gender       0 non-null      object\n",
      " 6   year         0 non-null      Int64 \n",
      " 7   month        0 non-null      Int64 \n",
      " 8   day          0 non-null      Int64 \n",
      "dtypes: Int64(3), int64(1), object(5)\n",
      "memory usage: 0.0+ bytes\n"
     ]
    }
   ],
   "source": [
    "df['year'] = df['birthday'].map(birthday2year).astype('Int64')\n",
    "df['month'] = df['birthday'].map(birthday2month).astype('Int64')\n",
    "df['day'] = df['birthday'].map(birthday2day).astype('Int64')\n",
    "df.info()"
   ]
  },
  {
   "cell_type": "code",
   "execution_count": 12,
   "metadata": {},
   "outputs": [
    {
     "name": "stdout",
     "output_type": "stream",
     "text": [
      "<class 'pandas.core.frame.DataFrame'>\n",
      "Index: 0 entries\n",
      "Data columns (total 9 columns):\n",
      " #   Column       Non-Null Count  Dtype \n",
      "---  ------       --------------  ----- \n",
      " 0   id           0 non-null      int64 \n",
      " 1   name         0 non-null      object\n",
      " 2   name_cn      0 non-null      object\n",
      " 3   other_names  0 non-null      object\n",
      " 4   birthday     0 non-null      object\n",
      " 5   gender       0 non-null      object\n",
      " 6   year         0 non-null      Int64 \n",
      " 7   month        0 non-null      Int64 \n",
      " 8   day          0 non-null      Int64 \n",
      "dtypes: Int64(3), int64(1), object(5)\n",
      "memory usage: 0.0+ bytes\n"
     ]
    }
   ],
   "source": [
    "df = df[df['month'].notnull() & df['day'].notnull()]\n",
    "df.info()"
   ]
  },
  {
   "cell_type": "code",
   "execution_count": 13,
   "metadata": {},
   "outputs": [],
   "source": [
    "df.to_csv('./result/character_cleaned.csv', index=False)   "
   ]
  }
 ],
 "metadata": {
  "kernelspec": {
   "display_name": "bangumi",
   "language": "python",
   "name": "python3"
  },
  "language_info": {
   "codemirror_mode": {
    "name": "ipython",
    "version": 3
   },
   "file_extension": ".py",
   "mimetype": "text/x-python",
   "name": "python",
   "nbconvert_exporter": "python",
   "pygments_lexer": "ipython3",
   "version": "3.10.16"
  }
 },
 "nbformat": 4,
 "nbformat_minor": 2
}
